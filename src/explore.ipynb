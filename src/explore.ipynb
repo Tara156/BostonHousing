{
 "cells": [
  {
   "cell_type": "markdown",
   "id": "828d3266",
   "metadata": {},
   "source": [
    "1. Explorar data set y realizar modelo random forest, guardarlo en la carpeta models\n",
    "2. En la carpeta src creo un nuevo archivo app.py, una funcion basica que devuelva saludo\n",
    "3. Con l alibreria gunicorn nos permite hacer la ejecución del archivo .py y que se cree la app\n",
    "entrar a la carpeta del archivo que se va ejecutar   cd src  --> gunicorn app:app\n",
    "ya se puede visualizar en el navegador el mensaje que retonra la funcion \n",
    "puerto que sea publico  para que los otros puedan ver mi app desde el navegador \n",
    "pero si me salgo de la ejecución, para eso está render para que siempre esté disponible \n",
    "\n",
    "4. Ahora crear la página web el front y backend\n",
    "carpeta src --> templates  --> index.html\n",
    "\n",
    "5. En el archivo app.py crear app \n",
    "instanciar app, leer y cargar modelo\n",
    "\n",
    "6. \n",
    "\n",
    "\n",
    "\n",
    "\n"
   ]
  }
 ],
 "metadata": {
  "kernelspec": {
   "display_name": "Python 3",
   "language": "python",
   "name": "python3"
  },
  "language_info": {
   "codemirror_mode": {
    "name": "ipython",
    "version": 3
   },
   "file_extension": ".py",
   "mimetype": "text/x-python",
   "name": "python",
   "nbconvert_exporter": "python",
   "pygments_lexer": "ipython3",
   "version": "3.12.1"
  }
 },
 "nbformat": 4,
 "nbformat_minor": 5
}
